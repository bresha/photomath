{
 "cells": [
  {
   "cell_type": "markdown",
   "metadata": {},
   "source": [
    "### Import libraries"
   ]
  },
  {
   "cell_type": "code",
   "execution_count": 14,
   "metadata": {},
   "outputs": [],
   "source": [
    "import tensorflow as tf\n",
    "from tensorflow import keras\n",
    "from tensorflow.keras import layers\n",
    "from tensorflow.keras import regularizers"
   ]
  },
  {
   "cell_type": "markdown",
   "metadata": {},
   "source": [
    "### Load and split data"
   ]
  },
  {
   "cell_type": "code",
   "execution_count": 15,
   "metadata": {},
   "outputs": [
    {
     "name": "stdout",
     "output_type": "stream",
     "text": [
      "Found 370930 files belonging to 16 classes.\n",
      "Using 296744 files for training.\n",
      "Found 370930 files belonging to 16 classes.\n",
      "Using 74186 files for validation.\n"
     ]
    }
   ],
   "source": [
    "ds_train = keras.utils.image_dataset_from_directory(\n",
    "    directory = \"../data_copy/\",\n",
    "    labels='inferred',\n",
    "    label_mode='categorical',\n",
    "    batch_size=64,\n",
    "    image_size=(45, 45),\n",
    "    shuffle=True,\n",
    "    seed=0,\n",
    "    validation_split=0.2,\n",
    "    subset=\"training\"\n",
    ")\n",
    "\n",
    "ds_val = keras.utils.image_dataset_from_directory(\n",
    "    directory = \"../data_copy/\",\n",
    "    labels='inferred',\n",
    "    label_mode='categorical',\n",
    "    batch_size=64,\n",
    "    image_size=(45, 45),\n",
    "    shuffle=True,\n",
    "    seed=0,\n",
    "    validation_split=0.2,\n",
    "    subset=\"validation\"\n",
    ")\n",
    "\n",
    "ds_test = ds_val.take(290)\n",
    "ds_val = ds_val.skip(290)"
   ]
  },
  {
   "cell_type": "code",
   "execution_count": 16,
   "metadata": {},
   "outputs": [
    {
     "name": "stdout",
     "output_type": "stream",
     "text": [
      "Batches for testing --> tf.Tensor(290, shape=(), dtype=int64)\n",
      "Batches for validating --> tf.Tensor(870, shape=(), dtype=int64)\n"
     ]
    }
   ],
   "source": [
    "print('Batches for testing -->', ds_test.cardinality())\n",
    "print('Batches for validating -->', ds_val.cardinality())"
   ]
  },
  {
   "cell_type": "markdown",
   "metadata": {},
   "source": [
    "### Create model"
   ]
  },
  {
   "cell_type": "code",
   "execution_count": 17,
   "metadata": {},
   "outputs": [],
   "source": [
    "model = keras.Sequential(\n",
    "    [\n",
    "        layers.Conv2D(filters=32, kernel_size=5, strides=1, activation=\"relu\", input_shape=(45, 45, 3), kernel_regularizer=regularizers.l2(0.0005)),\n",
    "        layers.Conv2D(filters=32, kernel_size=5, strides=1, use_bias=False),\n",
    "        layers.BatchNormalization(),\n",
    "        layers.Activation(\"relu\"),\n",
    "        layers.MaxPooling2D(pool_size=2, strides=2),\n",
    "        layers.Dropout(0.25),\n",
    "        layers.Conv2D(filters=64, kernel_size=3, strides=1, activation=\"relu\", kernel_regularizer=regularizers.l2(0.0005)),\n",
    "        layers.Conv2D(filters=64, kernel_size=3, strides=1, use_bias=False),\n",
    "        layers.BatchNormalization(),\n",
    "        layers.Activation(\"relu\"),\n",
    "        layers.MaxPooling2D(pool_size=2, strides=2),\n",
    "        layers.Dropout(0.25),\n",
    "        layers.Flatten(),\n",
    "        layers.Dense(units=256, use_bias=False),\n",
    "        layers.BatchNormalization(),\n",
    "        layers.Activation(\"relu\"),\n",
    "        layers.Dense(units=128, use_bias=False),\n",
    "        layers.BatchNormalization(),\n",
    "        layers.Activation(\"relu\"),\n",
    "        layers.Dense(units=64, use_bias=False),\n",
    "        layers.BatchNormalization(),\n",
    "        layers.Activation(\"relu\"),\n",
    "        layers.Dropout(0.25),\n",
    "        layers.Dense(units=16, activation=\"softmax\")\n",
    "    ]\n",
    ")"
   ]
  },
  {
   "cell_type": "markdown",
   "metadata": {},
   "source": [
    "### Compile model"
   ]
  },
  {
   "cell_type": "code",
   "execution_count": 18,
   "metadata": {},
   "outputs": [],
   "source": [
    "model.compile(optimizer=\"Adam\", loss=\"categorical_crossentropy\", metrics=[\"accuracy\"])"
   ]
  },
  {
   "cell_type": "markdown",
   "metadata": {},
   "source": [
    "### Train model"
   ]
  },
  {
   "cell_type": "code",
   "execution_count": 19,
   "metadata": {},
   "outputs": [
    {
     "name": "stdout",
     "output_type": "stream",
     "text": [
      "Epoch 1/15\n",
      "4637/4637 [==============================] - 44s 9ms/step - loss: 0.1575 - accuracy: 0.9588 - val_loss: 0.0865 - val_accuracy: 0.9760\n",
      "Epoch 2/15\n",
      "4637/4637 [==============================] - 43s 9ms/step - loss: 0.0762 - accuracy: 0.9788 - val_loss: 1.6100 - val_accuracy: 0.5735\n",
      "Epoch 3/15\n",
      "4637/4637 [==============================] - 42s 9ms/step - loss: 0.0628 - accuracy: 0.9828 - val_loss: 1.4014 - val_accuracy: 0.6609\n",
      "Epoch 4/15\n",
      "4637/4637 [==============================] - 42s 9ms/step - loss: 0.0540 - accuracy: 0.9849 - val_loss: 0.0484 - val_accuracy: 0.9864\n",
      "Epoch 5/15\n",
      "4637/4637 [==============================] - 42s 9ms/step - loss: 0.0503 - accuracy: 0.9860 - val_loss: 0.0391 - val_accuracy: 0.9893\n",
      "Epoch 6/15\n",
      "4637/4637 [==============================] - 42s 9ms/step - loss: 0.0465 - accuracy: 0.9868 - val_loss: 0.0391 - val_accuracy: 0.9892\n",
      "Epoch 7/15\n",
      "4637/4637 [==============================] - 42s 9ms/step - loss: 0.0438 - accuracy: 0.9873 - val_loss: 0.0385 - val_accuracy: 0.9896\n",
      "Epoch 8/15\n",
      "4637/4637 [==============================] - 42s 9ms/step - loss: 0.0407 - accuracy: 0.9884 - val_loss: 0.0399 - val_accuracy: 0.9878\n",
      "Epoch 9/15\n",
      "4637/4637 [==============================] - 44s 9ms/step - loss: 0.0400 - accuracy: 0.9885 - val_loss: 0.0393 - val_accuracy: 0.9883\n",
      "Epoch 10/15\n",
      "4637/4637 [==============================] - 44s 10ms/step - loss: 0.0383 - accuracy: 0.9889 - val_loss: 0.0310 - val_accuracy: 0.9915\n",
      "Epoch 11/15\n",
      "4637/4637 [==============================] - 44s 9ms/step - loss: 0.0361 - accuracy: 0.9895 - val_loss: 0.0294 - val_accuracy: 0.9921\n",
      "Epoch 12/15\n",
      "4637/4637 [==============================] - 44s 9ms/step - loss: 0.0361 - accuracy: 0.9896 - val_loss: 0.0319 - val_accuracy: 0.9906\n",
      "Epoch 13/15\n",
      "4637/4637 [==============================] - 42s 9ms/step - loss: 0.0344 - accuracy: 0.9901 - val_loss: 0.0275 - val_accuracy: 0.9927\n",
      "Epoch 14/15\n",
      "4637/4637 [==============================] - 44s 9ms/step - loss: 0.0336 - accuracy: 0.9905 - val_loss: 0.0287 - val_accuracy: 0.9924\n",
      "Epoch 15/15\n",
      "4637/4637 [==============================] - 44s 9ms/step - loss: 0.0328 - accuracy: 0.9908 - val_loss: 0.0260 - val_accuracy: 0.9922\n"
     ]
    },
    {
     "data": {
      "text/plain": [
       "<keras.callbacks.History at 0x7fb5f05f63a0>"
      ]
     },
     "execution_count": 19,
     "metadata": {},
     "output_type": "execute_result"
    }
   ],
   "source": [
    "model.fit(ds_train, epochs=15, validation_data=ds_val)"
   ]
  },
  {
   "cell_type": "markdown",
   "metadata": {},
   "source": [
    "### Evaluate model on test set"
   ]
  },
  {
   "cell_type": "code",
   "execution_count": 22,
   "metadata": {},
   "outputs": [
    {
     "name": "stdout",
     "output_type": "stream",
     "text": [
      "290/290 [==============================] - 1s 4ms/step - loss: 0.0252 - accuracy: 0.9930\n"
     ]
    },
    {
     "data": {
      "text/plain": [
       "[0.025212561711668968, 0.9930495619773865]"
      ]
     },
     "execution_count": 22,
     "metadata": {},
     "output_type": "execute_result"
    }
   ],
   "source": [
    "model.evaluate(ds_test)"
   ]
  },
  {
   "cell_type": "markdown",
   "metadata": {},
   "source": [
    "### Save model"
   ]
  },
  {
   "cell_type": "code",
   "execution_count": 23,
   "metadata": {},
   "outputs": [
    {
     "name": "stdout",
     "output_type": "stream",
     "text": [
      "INFO:tensorflow:Assets written to: ../model2/assets\n"
     ]
    }
   ],
   "source": [
    "model.save(\"../model2\")"
   ]
  }
 ],
 "metadata": {
  "interpreter": {
   "hash": "4043f920f50c1fdf9a9b8b4290230a8c58ae9e914d50003ffd089c1c19a29f7f"
  },
  "kernelspec": {
   "display_name": "Python 3.8.13 ('cvenv')",
   "language": "python",
   "name": "python3"
  },
  "language_info": {
   "codemirror_mode": {
    "name": "ipython",
    "version": 3
   },
   "file_extension": ".py",
   "mimetype": "text/x-python",
   "name": "python",
   "nbconvert_exporter": "python",
   "pygments_lexer": "ipython3",
   "version": "3.8.13"
  },
  "orig_nbformat": 4
 },
 "nbformat": 4,
 "nbformat_minor": 2
}
