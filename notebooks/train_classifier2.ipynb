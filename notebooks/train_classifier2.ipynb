{
 "cells": [
  {
   "cell_type": "markdown",
   "metadata": {},
   "source": [
    "### Import libraries"
   ]
  },
  {
   "cell_type": "code",
   "execution_count": 1,
   "metadata": {},
   "outputs": [],
   "source": [
    "import tensorflow as tf\n",
    "from tensorflow import keras\n",
    "from tensorflow.keras import layers\n",
    "from tensorflow.keras import regularizers"
   ]
  },
  {
   "cell_type": "markdown",
   "metadata": {},
   "source": [
    "### Load and split data"
   ]
  },
  {
   "cell_type": "code",
   "execution_count": 2,
   "metadata": {},
   "outputs": [
    {
     "name": "stdout",
     "output_type": "stream",
     "text": [
      "Found 7750 files belonging to 14 classes.\n",
      "Using 6200 files for training.\n"
     ]
    },
    {
     "name": "stderr",
     "output_type": "stream",
     "text": [
      "2022-04-26 19:31:36.774370: I tensorflow/stream_executor/cuda/cuda_gpu_executor.cc:936] successful NUMA node read from SysFS had negative value (-1), but there must be at least one NUMA node, so returning NUMA node zero\n",
      "2022-04-26 19:31:36.822490: I tensorflow/stream_executor/cuda/cuda_gpu_executor.cc:936] successful NUMA node read from SysFS had negative value (-1), but there must be at least one NUMA node, so returning NUMA node zero\n",
      "2022-04-26 19:31:36.822687: I tensorflow/stream_executor/cuda/cuda_gpu_executor.cc:936] successful NUMA node read from SysFS had negative value (-1), but there must be at least one NUMA node, so returning NUMA node zero\n",
      "2022-04-26 19:31:36.823275: I tensorflow/core/platform/cpu_feature_guard.cc:151] This TensorFlow binary is optimized with oneAPI Deep Neural Network Library (oneDNN) to use the following CPU instructions in performance-critical operations:  AVX2 FMA\n",
      "To enable them in other operations, rebuild TensorFlow with the appropriate compiler flags.\n",
      "2022-04-26 19:31:36.823816: I tensorflow/stream_executor/cuda/cuda_gpu_executor.cc:936] successful NUMA node read from SysFS had negative value (-1), but there must be at least one NUMA node, so returning NUMA node zero\n",
      "2022-04-26 19:31:36.823977: I tensorflow/stream_executor/cuda/cuda_gpu_executor.cc:936] successful NUMA node read from SysFS had negative value (-1), but there must be at least one NUMA node, so returning NUMA node zero\n",
      "2022-04-26 19:31:36.824113: I tensorflow/stream_executor/cuda/cuda_gpu_executor.cc:936] successful NUMA node read from SysFS had negative value (-1), but there must be at least one NUMA node, so returning NUMA node zero\n",
      "2022-04-26 19:31:37.241734: I tensorflow/stream_executor/cuda/cuda_gpu_executor.cc:936] successful NUMA node read from SysFS had negative value (-1), but there must be at least one NUMA node, so returning NUMA node zero\n",
      "2022-04-26 19:31:37.241946: I tensorflow/stream_executor/cuda/cuda_gpu_executor.cc:936] successful NUMA node read from SysFS had negative value (-1), but there must be at least one NUMA node, so returning NUMA node zero\n",
      "2022-04-26 19:31:37.242096: I tensorflow/stream_executor/cuda/cuda_gpu_executor.cc:936] successful NUMA node read from SysFS had negative value (-1), but there must be at least one NUMA node, so returning NUMA node zero\n",
      "2022-04-26 19:31:37.242232: I tensorflow/core/common_runtime/gpu/gpu_device.cc:1525] Created device /job:localhost/replica:0/task:0/device:GPU:0 with 6373 MB memory:  -> device: 0, name: NVIDIA GeForce RTX 2070, pci bus id: 0000:26:00.0, compute capability: 7.5\n"
     ]
    },
    {
     "name": "stdout",
     "output_type": "stream",
     "text": [
      "Found 7750 files belonging to 14 classes.\n",
      "Using 1550 files for validation.\n"
     ]
    }
   ],
   "source": [
    "ds_train = keras.utils.image_dataset_from_directory(\n",
    "    directory = \"../dataset/\",\n",
    "    labels='inferred',\n",
    "    label_mode='categorical',\n",
    "    batch_size=64,\n",
    "    image_size=(100, 100),\n",
    "    shuffle=True,\n",
    "    seed=0,\n",
    "    validation_split=0.2,\n",
    "    subset=\"training\"\n",
    ")\n",
    "\n",
    "ds_val = keras.utils.image_dataset_from_directory(\n",
    "    directory = \"../dataset/\",\n",
    "    labels='inferred',\n",
    "    label_mode='categorical',\n",
    "    batch_size=64,\n",
    "    image_size=(100, 100),\n",
    "    shuffle=True,\n",
    "    seed=0,\n",
    "    validation_split=0.2,\n",
    "    subset=\"validation\"\n",
    ")\n",
    "\n",
    "ds_test = ds_val.take(5)\n",
    "ds_val = ds_val.skip(5)"
   ]
  },
  {
   "cell_type": "code",
   "execution_count": 3,
   "metadata": {},
   "outputs": [
    {
     "name": "stdout",
     "output_type": "stream",
     "text": [
      "Batches for testing --> tf.Tensor(5, shape=(), dtype=int64)\n",
      "Batches for validating --> tf.Tensor(20, shape=(), dtype=int64)\n"
     ]
    }
   ],
   "source": [
    "print('Batches for testing -->', ds_test.cardinality())\n",
    "print('Batches for validating -->', ds_val.cardinality())"
   ]
  },
  {
   "cell_type": "markdown",
   "metadata": {},
   "source": [
    "### Create model"
   ]
  },
  {
   "cell_type": "code",
   "execution_count": 4,
   "metadata": {},
   "outputs": [],
   "source": [
    "\n",
    "img_height = 100\n",
    "img_width = 100\n",
    "num_classes = 14\n",
    "img_channels = 3\n",
    "\n",
    "model = keras.Sequential([\n",
    "  layers.Conv2D(16, 3, padding='same', activation='relu',input_shape=(img_height, img_width, img_channels)),\n",
    "  layers.MaxPooling2D(),\n",
    "  layers.Conv2D(32, 3, padding='same', activation='relu'),\n",
    "  layers.MaxPooling2D(),\n",
    "  layers.Conv2D(64, 3, padding='same', activation='relu'),\n",
    "  layers.MaxPooling2D(),\n",
    "  layers.Dropout(0.2),\n",
    "  layers.Flatten(),\n",
    "  layers.Dense(128, activation='relu'),\n",
    "  layers.Dense(num_classes, activation='softmax')\n",
    "])\n",
    "\n"
   ]
  },
  {
   "cell_type": "markdown",
   "metadata": {},
   "source": [
    "### Compile model"
   ]
  },
  {
   "cell_type": "code",
   "execution_count": 5,
   "metadata": {},
   "outputs": [],
   "source": [
    "model.compile(optimizer=\"Adam\", loss=\"categorical_crossentropy\", metrics=[\"accuracy\"])"
   ]
  },
  {
   "cell_type": "markdown",
   "metadata": {},
   "source": [
    "### Train model"
   ]
  },
  {
   "cell_type": "code",
   "execution_count": 7,
   "metadata": {},
   "outputs": [
    {
     "name": "stdout",
     "output_type": "stream",
     "text": [
      "Epoch 1/42\n",
      "97/97 [==============================] - 1s 13ms/step - loss: 0.0377 - accuracy: 0.9895 - val_loss: 0.3675 - val_accuracy: 0.9187\n",
      "Epoch 2/42\n",
      "97/97 [==============================] - 1s 13ms/step - loss: 0.0363 - accuracy: 0.9890 - val_loss: 0.4591 - val_accuracy: 0.9033\n",
      "Epoch 3/42\n",
      "97/97 [==============================] - 1s 13ms/step - loss: 0.0291 - accuracy: 0.9918 - val_loss: 0.4567 - val_accuracy: 0.9171\n",
      "Epoch 4/42\n",
      "97/97 [==============================] - 1s 13ms/step - loss: 0.0341 - accuracy: 0.9905 - val_loss: 0.5441 - val_accuracy: 0.9089\n",
      "Epoch 5/42\n",
      "97/97 [==============================] - 1s 13ms/step - loss: 0.0317 - accuracy: 0.9906 - val_loss: 0.4812 - val_accuracy: 0.9171\n",
      "Epoch 6/42\n",
      "97/97 [==============================] - 1s 13ms/step - loss: 0.0283 - accuracy: 0.9903 - val_loss: 0.4317 - val_accuracy: 0.9187\n",
      "Epoch 7/42\n",
      "97/97 [==============================] - 1s 13ms/step - loss: 0.0478 - accuracy: 0.9850 - val_loss: 0.5845 - val_accuracy: 0.8992\n",
      "Epoch 8/42\n",
      "97/97 [==============================] - 1s 13ms/step - loss: 0.0492 - accuracy: 0.9852 - val_loss: 0.5147 - val_accuracy: 0.9122\n",
      "Epoch 9/42\n",
      "97/97 [==============================] - 1s 13ms/step - loss: 0.0389 - accuracy: 0.9887 - val_loss: 0.4566 - val_accuracy: 0.9138\n",
      "Epoch 10/42\n",
      "97/97 [==============================] - 1s 14ms/step - loss: 0.0245 - accuracy: 0.9931 - val_loss: 0.4464 - val_accuracy: 0.9317\n",
      "Epoch 11/42\n",
      "97/97 [==============================] - 1s 13ms/step - loss: 0.0221 - accuracy: 0.9919 - val_loss: 0.5902 - val_accuracy: 0.9130\n",
      "Epoch 12/42\n",
      "97/97 [==============================] - 1s 13ms/step - loss: 0.0290 - accuracy: 0.9902 - val_loss: 0.5824 - val_accuracy: 0.9228\n",
      "Epoch 13/42\n",
      "97/97 [==============================] - 1s 13ms/step - loss: 0.0232 - accuracy: 0.9931 - val_loss: 0.5260 - val_accuracy: 0.9236\n",
      "Epoch 14/42\n",
      "97/97 [==============================] - 1s 13ms/step - loss: 0.0300 - accuracy: 0.9910 - val_loss: 0.5035 - val_accuracy: 0.9244\n",
      "Epoch 15/42\n",
      "97/97 [==============================] - 1s 13ms/step - loss: 0.0322 - accuracy: 0.9892 - val_loss: 0.4452 - val_accuracy: 0.9179\n",
      "Epoch 16/42\n",
      "97/97 [==============================] - 1s 13ms/step - loss: 0.0250 - accuracy: 0.9924 - val_loss: 0.5498 - val_accuracy: 0.9252\n",
      "Epoch 17/42\n",
      "97/97 [==============================] - 1s 13ms/step - loss: 0.0209 - accuracy: 0.9945 - val_loss: 0.7001 - val_accuracy: 0.9130\n",
      "Epoch 18/42\n",
      "97/97 [==============================] - 1s 13ms/step - loss: 0.0203 - accuracy: 0.9934 - val_loss: 0.5673 - val_accuracy: 0.9276\n",
      "Epoch 19/42\n",
      "97/97 [==============================] - 1s 13ms/step - loss: 0.0267 - accuracy: 0.9913 - val_loss: 0.6809 - val_accuracy: 0.9057\n",
      "Epoch 20/42\n",
      "97/97 [==============================] - 1s 13ms/step - loss: 0.0297 - accuracy: 0.9908 - val_loss: 0.5633 - val_accuracy: 0.9293\n",
      "Epoch 21/42\n",
      "97/97 [==============================] - 1s 13ms/step - loss: 0.0285 - accuracy: 0.9924 - val_loss: 0.6076 - val_accuracy: 0.9317\n",
      "Epoch 22/42\n",
      "97/97 [==============================] - 1s 13ms/step - loss: 0.0181 - accuracy: 0.9935 - val_loss: 0.6534 - val_accuracy: 0.9187\n",
      "Epoch 23/42\n",
      "97/97 [==============================] - 1s 13ms/step - loss: 0.0126 - accuracy: 0.9956 - val_loss: 0.6043 - val_accuracy: 0.9301\n",
      "Epoch 24/42\n",
      "97/97 [==============================] - 1s 13ms/step - loss: 0.0143 - accuracy: 0.9966 - val_loss: 0.6096 - val_accuracy: 0.9293\n",
      "Epoch 25/42\n",
      "97/97 [==============================] - 1s 13ms/step - loss: 0.0142 - accuracy: 0.9963 - val_loss: 0.7626 - val_accuracy: 0.9138\n",
      "Epoch 26/42\n",
      "97/97 [==============================] - 1s 13ms/step - loss: 0.0224 - accuracy: 0.9932 - val_loss: 0.6356 - val_accuracy: 0.9154\n",
      "Epoch 27/42\n",
      "97/97 [==============================] - 1s 13ms/step - loss: 0.0294 - accuracy: 0.9923 - val_loss: 0.5673 - val_accuracy: 0.9244\n",
      "Epoch 28/42\n",
      "97/97 [==============================] - 1s 13ms/step - loss: 0.0205 - accuracy: 0.9942 - val_loss: 0.8399 - val_accuracy: 0.9106\n",
      "Epoch 29/42\n",
      "97/97 [==============================] - 1s 13ms/step - loss: 0.0323 - accuracy: 0.9927 - val_loss: 0.5797 - val_accuracy: 0.9211\n",
      "Epoch 30/42\n",
      "97/97 [==============================] - 1s 13ms/step - loss: 0.0113 - accuracy: 0.9963 - val_loss: 0.5120 - val_accuracy: 0.9333\n",
      "Epoch 31/42\n",
      "97/97 [==============================] - 1s 13ms/step - loss: 0.0163 - accuracy: 0.9955 - val_loss: 0.6183 - val_accuracy: 0.9268\n",
      "Epoch 32/42\n",
      "97/97 [==============================] - 1s 13ms/step - loss: 0.0299 - accuracy: 0.9939 - val_loss: 0.6244 - val_accuracy: 0.9171\n",
      "Epoch 33/42\n",
      "97/97 [==============================] - 1s 13ms/step - loss: 0.0177 - accuracy: 0.9947 - val_loss: 0.7049 - val_accuracy: 0.9203\n",
      "Epoch 34/42\n",
      "97/97 [==============================] - 1s 13ms/step - loss: 0.0322 - accuracy: 0.9927 - val_loss: 0.8002 - val_accuracy: 0.9154\n",
      "Epoch 35/42\n",
      "97/97 [==============================] - 1s 13ms/step - loss: 0.0386 - accuracy: 0.9895 - val_loss: 0.6629 - val_accuracy: 0.9130\n",
      "Epoch 36/42\n",
      "97/97 [==============================] - 1s 14ms/step - loss: 0.0380 - accuracy: 0.9919 - val_loss: 0.7394 - val_accuracy: 0.9228\n",
      "Epoch 37/42\n",
      "97/97 [==============================] - 1s 13ms/step - loss: 0.0274 - accuracy: 0.9923 - val_loss: 0.6288 - val_accuracy: 0.9195\n",
      "Epoch 38/42\n",
      "97/97 [==============================] - 1s 14ms/step - loss: 0.0362 - accuracy: 0.9913 - val_loss: 0.6049 - val_accuracy: 0.9382\n",
      "Epoch 39/42\n",
      "97/97 [==============================] - 1s 13ms/step - loss: 0.0321 - accuracy: 0.9931 - val_loss: 0.7047 - val_accuracy: 0.9228\n",
      "Epoch 40/42\n",
      "97/97 [==============================] - 1s 13ms/step - loss: 0.0353 - accuracy: 0.9915 - val_loss: 0.6976 - val_accuracy: 0.9179\n",
      "Epoch 41/42\n",
      "97/97 [==============================] - 1s 13ms/step - loss: 0.0242 - accuracy: 0.9935 - val_loss: 0.7675 - val_accuracy: 0.9154\n",
      "Epoch 42/42\n",
      "97/97 [==============================] - 1s 13ms/step - loss: 0.0292 - accuracy: 0.9934 - val_loss: 0.6139 - val_accuracy: 0.9211\n"
     ]
    },
    {
     "data": {
      "text/plain": [
       "<keras.callbacks.History at 0x7f4e407c6fa0>"
      ]
     },
     "execution_count": 7,
     "metadata": {},
     "output_type": "execute_result"
    }
   ],
   "source": [
    "model.fit(ds_train, epochs=42, validation_data=ds_val)"
   ]
  },
  {
   "cell_type": "markdown",
   "metadata": {},
   "source": [
    "### Evaluate model on test set"
   ]
  },
  {
   "cell_type": "code",
   "execution_count": 8,
   "metadata": {},
   "outputs": [
    {
     "name": "stdout",
     "output_type": "stream",
     "text": [
      "5/5 [==============================] - 0s 9ms/step - loss: 0.7457 - accuracy: 0.9125\n"
     ]
    },
    {
     "data": {
      "text/plain": [
       "[0.7456718683242798, 0.9125000238418579]"
      ]
     },
     "execution_count": 8,
     "metadata": {},
     "output_type": "execute_result"
    }
   ],
   "source": [
    "model.evaluate(ds_test)"
   ]
  },
  {
   "cell_type": "markdown",
   "metadata": {},
   "source": [
    "### Save model"
   ]
  },
  {
   "cell_type": "code",
   "execution_count": 9,
   "metadata": {},
   "outputs": [
    {
     "name": "stderr",
     "output_type": "stream",
     "text": [
      "2022-04-26 19:33:31.139152: W tensorflow/python/util/util.cc:368] Sets are not currently considered sequences, but this may change in the future, so consider avoiding using them.\n"
     ]
    },
    {
     "name": "stdout",
     "output_type": "stream",
     "text": [
      "INFO:tensorflow:Assets written to: ../model3/assets\n"
     ]
    }
   ],
   "source": [
    "model.save(\"../model3\")"
   ]
  }
 ],
 "metadata": {
  "interpreter": {
   "hash": "4043f920f50c1fdf9a9b8b4290230a8c58ae9e914d50003ffd089c1c19a29f7f"
  },
  "kernelspec": {
   "display_name": "Python 3.8.13 ('cvenv')",
   "language": "python",
   "name": "python3"
  },
  "language_info": {
   "codemirror_mode": {
    "name": "ipython",
    "version": 3
   },
   "file_extension": ".py",
   "mimetype": "text/x-python",
   "name": "python",
   "nbconvert_exporter": "python",
   "pygments_lexer": "ipython3",
   "version": "3.8.13"
  },
  "orig_nbformat": 4
 },
 "nbformat": 4,
 "nbformat_minor": 2
}
